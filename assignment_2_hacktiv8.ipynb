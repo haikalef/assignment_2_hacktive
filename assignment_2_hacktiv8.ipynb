{
 "cells": [
  {
   "cell_type": "code",
   "execution_count": 2,
   "id": "a2be5e87",
   "metadata": {},
   "outputs": [],
   "source": [
    "#import library\n",
    "import numpy as np\n",
    "import pandas as pd"
   ]
  },
  {
   "cell_type": "code",
   "execution_count": 4,
   "id": "1c9ced8b",
   "metadata": {},
   "outputs": [
    {
     "data": {
      "text/plain": [
       "(84548, 22)"
      ]
     },
     "execution_count": 4,
     "metadata": {},
     "output_type": "execute_result"
    }
   ],
   "source": [
    "#import data\n",
    "\n",
    "df = pd.read_csv(\"C://Users/haikalef/Downloads/archive2/nyc-rolling-sales.csv\")\n",
    "df.head()"
   ]
  },
  {
   "cell_type": "code",
   "execution_count": 90,
   "id": "ff646975",
   "metadata": {},
   "outputs": [
    {
     "name": "stdout",
     "output_type": "stream",
     "text": [
      "<class 'pandas.core.frame.DataFrame'>\n",
      "RangeIndex: 84548 entries, 0 to 84547\n",
      "Data columns (total 22 columns):\n",
      " #   Column                          Non-Null Count  Dtype \n",
      "---  ------                          --------------  ----- \n",
      " 0   Unnamed: 0                      84548 non-null  int64 \n",
      " 1   BOROUGH                         84548 non-null  int64 \n",
      " 2   NEIGHBORHOOD                    84548 non-null  object\n",
      " 3   BUILDING CLASS CATEGORY         84548 non-null  object\n",
      " 4   TAX CLASS AT PRESENT            84548 non-null  object\n",
      " 5   BLOCK                           84548 non-null  int64 \n",
      " 6   LOT                             84548 non-null  int64 \n",
      " 7   EASE-MENT                       84548 non-null  object\n",
      " 8   BUILDING CLASS AT PRESENT       84548 non-null  object\n",
      " 9   ADDRESS                         84548 non-null  object\n",
      " 10  APARTMENT NUMBER                84548 non-null  object\n",
      " 11  ZIP CODE                        84548 non-null  int64 \n",
      " 12  RESIDENTIAL UNITS               84548 non-null  int64 \n",
      " 13  COMMERCIAL UNITS                84548 non-null  int64 \n",
      " 14  TOTAL UNITS                     84548 non-null  int64 \n",
      " 15  LAND SQUARE FEET                84548 non-null  object\n",
      " 16  GROSS SQUARE FEET               84548 non-null  object\n",
      " 17  YEAR BUILT                      84548 non-null  int64 \n",
      " 18  TAX CLASS AT TIME OF SALE       84548 non-null  int64 \n",
      " 19  BUILDING CLASS AT TIME OF SALE  84548 non-null  object\n",
      " 20  SALE PRICE                      84548 non-null  object\n",
      " 21  SALE DATE                       84548 non-null  object\n",
      "dtypes: int64(10), object(12)\n",
      "memory usage: 14.2+ MB\n"
     ]
    }
   ],
   "source": [
    "df.info()"
   ]
  },
  {
   "cell_type": "code",
   "execution_count": 91,
   "id": "41c70048",
   "metadata": {},
   "outputs": [
    {
     "data": {
      "text/plain": [
       "Unnamed: 0                        0\n",
       "BOROUGH                           0\n",
       "NEIGHBORHOOD                      0\n",
       "BUILDING CLASS CATEGORY           0\n",
       "TAX CLASS AT PRESENT              0\n",
       "BLOCK                             0\n",
       "LOT                               0\n",
       "EASE-MENT                         0\n",
       "BUILDING CLASS AT PRESENT         0\n",
       "ADDRESS                           0\n",
       "APARTMENT NUMBER                  0\n",
       "ZIP CODE                          0\n",
       "RESIDENTIAL UNITS                 0\n",
       "COMMERCIAL UNITS                  0\n",
       "TOTAL UNITS                       0\n",
       "LAND SQUARE FEET                  0\n",
       "GROSS SQUARE FEET                 0\n",
       "YEAR BUILT                        0\n",
       "TAX CLASS AT TIME OF SALE         0\n",
       "BUILDING CLASS AT TIME OF SALE    0\n",
       "SALE PRICE                        0\n",
       "SALE DATE                         0\n",
       "dtype: int64"
      ]
     },
     "execution_count": 91,
     "metadata": {},
     "output_type": "execute_result"
    }
   ],
   "source": [
    "df.isnull().sum()"
   ]
  },
  {
   "cell_type": "code",
   "execution_count": 92,
   "id": "1cb30a9e",
   "metadata": {},
   "outputs": [
    {
     "data": {
      "text/plain": [
       "'\\nPertanyaan 1:\\n1.1 apakah besar tanah dari sebuah rumah mempengaruhi harga jual rumah tersebut?\\n1.2 berapakah confidence interval 95% dari korelasi pada no 1.1\\n\\nPertanyaan 2:\\n2.1 apakah kolom sale price terdistribusi secara normal?\\n\\nPertanyaan 3:\\napakah penjualan commercial units lebih besar dari residential units?\\n'"
      ]
     },
     "execution_count": 92,
     "metadata": {},
     "output_type": "execute_result"
    }
   ],
   "source": [
    "'''\n",
    "Pertanyaan 1:\n",
    "1.1 apakah besar tanah dari sebuah rumah mempengaruhi harga jual rumah tersebut?\n",
    "1.2 berapakah confidence interval 95% dari korelasi pada no 1.1\n",
    "\n",
    "Pertanyaan 2:\n",
    "2.1 apakah kolom sale price terdistribusi secara normal?\n",
    "\n",
    "Pertanyaan 3:\n",
    "apakah penjualan commercial units lebih besar dari residential units?\n",
    "'''"
   ]
  },
  {
   "cell_type": "markdown",
   "id": "8d616aaa",
   "metadata": {},
   "source": [
    "PERTANYAAN 1.1\n",
    "\n",
    "Preprocessing kolom Land Square Feet dan Sale Price, cari korelasi nya!"
   ]
  },
  {
   "cell_type": "code",
   "execution_count": 93,
   "id": "6e583997",
   "metadata": {},
   "outputs": [
    {
     "data": {
      "text/plain": [
       "' -  '"
      ]
     },
     "execution_count": 93,
     "metadata": {},
     "output_type": "execute_result"
    }
   ],
   "source": [
    "df['SALE PRICE'][5]"
   ]
  },
  {
   "cell_type": "code",
   "execution_count": 94,
   "id": "599a09f2",
   "metadata": {},
   "outputs": [
    {
     "data": {
      "text/plain": [
       "14561"
      ]
     },
     "execution_count": 94,
     "metadata": {},
     "output_type": "execute_result"
    }
   ],
   "source": [
    "len(df[df['SALE PRICE'] == df['SALE PRICE'][5]])"
   ]
  },
  {
   "cell_type": "code",
   "execution_count": 95,
   "id": "2d52cad9",
   "metadata": {},
   "outputs": [
    {
     "data": {
      "text/plain": [
       "530000.0"
      ]
     },
     "execution_count": 95,
     "metadata": {},
     "output_type": "execute_result"
    }
   ],
   "source": [
    "median_price = df[df['SALE PRICE'] != df['SALE PRICE'][5]]['SALE PRICE'].median()\n",
    "median_price"
   ]
  },
  {
   "cell_type": "code",
   "execution_count": 96,
   "id": "f3defd72",
   "metadata": {},
   "outputs": [],
   "source": [
    "df['SALE PRICE'] = df['SALE PRICE'].replace(' -  ', median_price)"
   ]
  },
  {
   "cell_type": "code",
   "execution_count": 97,
   "id": "627badf9",
   "metadata": {},
   "outputs": [
    {
     "data": {
      "text/plain": [
       "0"
      ]
     },
     "execution_count": 97,
     "metadata": {},
     "output_type": "execute_result"
    }
   ],
   "source": [
    "len(df[df['SALE PRICE'] == ' -  ']) #cek apakah masih ada strip atau tidak"
   ]
  },
  {
   "cell_type": "code",
   "execution_count": 98,
   "id": "901d73c0",
   "metadata": {},
   "outputs": [],
   "source": [
    "#now check Land Square Feet column, is there any missing value or no? (like strip or null)\n",
    "not_number = []\n",
    "\n",
    "for i in range(0, len(df['LAND SQUARE FEET'])):\n",
    "    temp_numbers = df['LAND SQUARE FEET'][i]\n",
    "    if temp_numbers.isdigit() == True:\n",
    "        continue\n",
    "    else:\n",
    "        not_number.append(temp_numbers)               "
   ]
  },
  {
   "cell_type": "code",
   "execution_count": 99,
   "id": "77f1bd0c",
   "metadata": {},
   "outputs": [
    {
     "data": {
      "text/plain": [
       "array([' -  '], dtype='<U4')"
      ]
     },
     "execution_count": 99,
     "metadata": {},
     "output_type": "execute_result"
    }
   ],
   "source": [
    "a = np.array(not_number)\n",
    "np.unique(a)"
   ]
  },
  {
   "cell_type": "code",
   "execution_count": 100,
   "id": "e9270c41",
   "metadata": {},
   "outputs": [
    {
     "data": {
      "text/plain": [
       "2325.0"
      ]
     },
     "execution_count": 100,
     "metadata": {},
     "output_type": "execute_result"
    }
   ],
   "source": [
    "median_land = df[df['LAND SQUARE FEET'] != ' -  ']['LAND SQUARE FEET'].median()\n",
    "median_land"
   ]
  },
  {
   "cell_type": "code",
   "execution_count": 101,
   "id": "2f5399ab",
   "metadata": {},
   "outputs": [],
   "source": [
    "df['LAND SQUARE FEET'] = df['LAND SQUARE FEET'].replace(' -  ', median_land)"
   ]
  },
  {
   "cell_type": "code",
   "execution_count": 102,
   "id": "58723035",
   "metadata": {},
   "outputs": [
    {
     "data": {
      "text/plain": [
       "0"
      ]
     },
     "execution_count": 102,
     "metadata": {},
     "output_type": "execute_result"
    }
   ],
   "source": [
    "len(df[df['LAND SQUARE FEET'] == ' -  ']) #cek apakah masih ada strip atau tidak"
   ]
  },
  {
   "cell_type": "code",
   "execution_count": 103,
   "id": "c344b822",
   "metadata": {},
   "outputs": [
    {
     "data": {
      "text/html": [
       "<div>\n",
       "<style scoped>\n",
       "    .dataframe tbody tr th:only-of-type {\n",
       "        vertical-align: middle;\n",
       "    }\n",
       "\n",
       "    .dataframe tbody tr th {\n",
       "        vertical-align: top;\n",
       "    }\n",
       "\n",
       "    .dataframe thead th {\n",
       "        text-align: right;\n",
       "    }\n",
       "</style>\n",
       "<table border=\"1\" class=\"dataframe\">\n",
       "  <thead>\n",
       "    <tr style=\"text-align: right;\">\n",
       "      <th></th>\n",
       "      <th>LAND SQUARE FEET</th>\n",
       "      <th>SALE PRICE</th>\n",
       "    </tr>\n",
       "  </thead>\n",
       "  <tbody>\n",
       "    <tr>\n",
       "      <th>0</th>\n",
       "      <td>1633</td>\n",
       "      <td>6625000</td>\n",
       "    </tr>\n",
       "    <tr>\n",
       "      <th>1</th>\n",
       "      <td>4616</td>\n",
       "      <td>530000.0</td>\n",
       "    </tr>\n",
       "    <tr>\n",
       "      <th>2</th>\n",
       "      <td>2212</td>\n",
       "      <td>530000.0</td>\n",
       "    </tr>\n",
       "    <tr>\n",
       "      <th>3</th>\n",
       "      <td>2272</td>\n",
       "      <td>3936272</td>\n",
       "    </tr>\n",
       "    <tr>\n",
       "      <th>4</th>\n",
       "      <td>2369</td>\n",
       "      <td>8000000</td>\n",
       "    </tr>\n",
       "    <tr>\n",
       "      <th>...</th>\n",
       "      <td>...</td>\n",
       "      <td>...</td>\n",
       "    </tr>\n",
       "    <tr>\n",
       "      <th>84543</th>\n",
       "      <td>2400</td>\n",
       "      <td>450000</td>\n",
       "    </tr>\n",
       "    <tr>\n",
       "      <th>84544</th>\n",
       "      <td>2498</td>\n",
       "      <td>550000</td>\n",
       "    </tr>\n",
       "    <tr>\n",
       "      <th>84545</th>\n",
       "      <td>4000</td>\n",
       "      <td>460000</td>\n",
       "    </tr>\n",
       "    <tr>\n",
       "      <th>84546</th>\n",
       "      <td>208033</td>\n",
       "      <td>11693337</td>\n",
       "    </tr>\n",
       "    <tr>\n",
       "      <th>84547</th>\n",
       "      <td>10796</td>\n",
       "      <td>69300</td>\n",
       "    </tr>\n",
       "  </tbody>\n",
       "</table>\n",
       "<p>84548 rows × 2 columns</p>\n",
       "</div>"
      ],
      "text/plain": [
       "      LAND SQUARE FEET SALE PRICE\n",
       "0                 1633    6625000\n",
       "1                 4616   530000.0\n",
       "2                 2212   530000.0\n",
       "3                 2272    3936272\n",
       "4                 2369    8000000\n",
       "...                ...        ...\n",
       "84543             2400     450000\n",
       "84544             2498     550000\n",
       "84545             4000     460000\n",
       "84546           208033   11693337\n",
       "84547            10796      69300\n",
       "\n",
       "[84548 rows x 2 columns]"
      ]
     },
     "execution_count": 103,
     "metadata": {},
     "output_type": "execute_result"
    }
   ],
   "source": [
    "df[['LAND SQUARE FEET', 'SALE PRICE']]"
   ]
  },
  {
   "cell_type": "code",
   "execution_count": 104,
   "id": "8613ecaf",
   "metadata": {},
   "outputs": [
    {
     "name": "stdout",
     "output_type": "stream",
     "text": [
      "object\n",
      "object\n"
     ]
    }
   ],
   "source": [
    "print(df['LAND SQUARE FEET'].dtypes)\n",
    "print(df['SALE PRICE'].dtypes)"
   ]
  },
  {
   "cell_type": "code",
   "execution_count": 105,
   "id": "faa4410e",
   "metadata": {},
   "outputs": [
    {
     "name": "stdout",
     "output_type": "stream",
     "text": [
      "stat=0.05131154684817121, p=2.1171022715410064e-50\n",
      "Probably dependent\n"
     ]
    }
   ],
   "source": [
    "#use pearson's correlation for check the correlation\n",
    "#h0 = besar tanah tidak mempengaruhi harga jual\n",
    "#h1 = besar tanah mempengaruhi harga jual\n",
    "\n",
    "df['LAND SQUARE FEET'] = df['LAND SQUARE FEET'].astype(float) #change dtype to float\n",
    "df['SALE PRICE'] = df['SALE PRICE'].astype(float)\n",
    "\n",
    "from scipy.stats import pearsonr\n",
    "data1 = df['LAND SQUARE FEET']\n",
    "data2 = df['SALE PRICE']\n",
    "stat, p= pearsonr(data1, data2)\n",
    "\n",
    "print(f\"stat={stat}, p={p}\")\n",
    "if p > 0.05:\n",
    "    print('Probably independent')\n",
    "else:\n",
    "    print('Probably dependent')"
   ]
  },
  {
   "cell_type": "markdown",
   "id": "51f6a92f",
   "metadata": {},
   "source": [
    "Karena p-value (2.1171022715410064e-50) dan kurang dari sama dengan alpha (0.05), maka kita dapat reject the null hypothesis, bahwa besar tanah mempengaruhi harga jual."
   ]
  },
  {
   "cell_type": "markdown",
   "id": "357d7dc8",
   "metadata": {},
   "source": [
    "PERTANYAAN 1.2\n",
    "\n",
    "Confidence Interval 95% dari korelasi pada no 1.1"
   ]
  },
  {
   "cell_type": "code",
   "execution_count": 106,
   "id": "3b1f63ec",
   "metadata": {},
   "outputs": [
    {
     "data": {
      "text/plain": [
       "(0.044586383559312597, 0.058032059683572196)"
      ]
     },
     "execution_count": 106,
     "metadata": {},
     "output_type": "execute_result"
    }
   ],
   "source": [
    "from scipy import stats\n",
    "\n",
    "def pearsonr_ci(x, y, alpha=0.05):\n",
    "    stat, p = pearsonr(x, y)\n",
    "    r_z = np.arctanh(stat)\n",
    "    se = 1/np.sqrt(len(x)-3)\n",
    "    z = stats.norm.ppf(1-alpha/2)\n",
    "    lo_z, hi_z = r_z-z*se, r_z+z*se\n",
    "    lo, hi = np.tanh((lo_z, hi_z))\n",
    "    return lo, hi\n",
    "\n",
    "pearsonr_ci(data1, data2)"
   ]
  },
  {
   "cell_type": "markdown",
   "id": "6a1b277c",
   "metadata": {},
   "source": [
    "Pada 95% confidence interval memiliki nilai lower bound = 0.044586383559312597, dan upper bound = 0.058032059683572196. Sehingga 95% korelasi tersebar pada range tersebut"
   ]
  },
  {
   "cell_type": "markdown",
   "id": "56b90881",
   "metadata": {},
   "source": [
    "PERTANYAAN 2\n",
    "\n",
    "Apakah kolom gross square feet terdistribusi secara normal?\n",
    "\n",
    "Dalam kasus ini kita dapat menggunakan Shapiro-Wilk Test untuk mengecek apakah data memiliki Gaussian Distribution "
   ]
  },
  {
   "cell_type": "code",
   "execution_count": 107,
   "id": "169fe666",
   "metadata": {},
   "outputs": [
    {
     "data": {
      "text/plain": [
       "dtype('O')"
      ]
     },
     "execution_count": 107,
     "metadata": {},
     "output_type": "execute_result"
    }
   ],
   "source": [
    "df['GROSS SQUARE FEET'].dtypes"
   ]
  },
  {
   "cell_type": "code",
   "execution_count": 108,
   "id": "7c7b0783",
   "metadata": {},
   "outputs": [],
   "source": [
    "#now check Land Square Feet column, is there any missing value or no? (like strip or null)\n",
    "not_number1 = []\n",
    "\n",
    "for i in range(0, len(df['GROSS SQUARE FEET'])):\n",
    "    temp_numbers1 = df['GROSS SQUARE FEET'][i]\n",
    "    if temp_numbers1.isdigit() == True:\n",
    "        continue\n",
    "    else:\n",
    "        not_number1.append(temp_numbers1)         "
   ]
  },
  {
   "cell_type": "code",
   "execution_count": 109,
   "id": "c2e90aa9",
   "metadata": {},
   "outputs": [
    {
     "data": {
      "text/plain": [
       "array([' -  ', ' -  ', ' -  ', ..., ' -  ', ' -  ', ' -  '], dtype='<U4')"
      ]
     },
     "execution_count": 109,
     "metadata": {},
     "output_type": "execute_result"
    }
   ],
   "source": [
    "b = np.array(not_number1)\n",
    "b"
   ]
  },
  {
   "cell_type": "code",
   "execution_count": 110,
   "id": "a0c682cb",
   "metadata": {},
   "outputs": [
    {
     "name": "stdout",
     "output_type": "stream",
     "text": [
      "27612\n",
      "[' -  ']\n"
     ]
    }
   ],
   "source": [
    "print(len(b))\n",
    "print(np.unique(b))"
   ]
  },
  {
   "cell_type": "code",
   "execution_count": 111,
   "id": "9cb9b16d",
   "metadata": {},
   "outputs": [
    {
     "data": {
      "text/plain": [
       "1680.0"
      ]
     },
     "execution_count": 111,
     "metadata": {},
     "output_type": "execute_result"
    }
   ],
   "source": [
    "#karena ada 27612 missing value \" - \", maka dapat menggantikan nilai \" - \" dengan nilai median\n",
    "median_gross_land = df[df['GROSS SQUARE FEET'] != ' -  ']['GROSS SQUARE FEET'].median()\n",
    "median_gross_land"
   ]
  },
  {
   "cell_type": "code",
   "execution_count": 112,
   "id": "9b54f5c5",
   "metadata": {},
   "outputs": [],
   "source": [
    "df['GROSS SQUARE FEET'] = df['GROSS SQUARE FEET'].replace(' -  ', median_gross_land)"
   ]
  },
  {
   "cell_type": "code",
   "execution_count": 113,
   "id": "f8751cf5",
   "metadata": {},
   "outputs": [
    {
     "data": {
      "text/plain": [
       "0"
      ]
     },
     "execution_count": 113,
     "metadata": {},
     "output_type": "execute_result"
    }
   ],
   "source": [
    "len(df[df['GROSS SQUARE FEET'] == ' -  ']) #cek apakah masih ada strip atau tidak"
   ]
  },
  {
   "cell_type": "code",
   "execution_count": 115,
   "id": "ea17f306",
   "metadata": {},
   "outputs": [
    {
     "data": {
      "text/plain": [
       "0         6440\n",
       "1        18690\n",
       "2         7803\n",
       "3         6794\n",
       "4         4615\n",
       "         ...  \n",
       "84543     2575\n",
       "84544     2377\n",
       "84545     1496\n",
       "84546    64117\n",
       "84547     2400\n",
       "Name: GROSS SQUARE FEET, Length: 84548, dtype: object"
      ]
     },
     "execution_count": 115,
     "metadata": {},
     "output_type": "execute_result"
    }
   ],
   "source": [
    "df['GROSS SQUARE FEET']"
   ]
  },
  {
   "cell_type": "code",
   "execution_count": 116,
   "id": "0e7835b3",
   "metadata": {},
   "outputs": [
    {
     "name": "stdout",
     "output_type": "stream",
     "text": [
      "stat=0.0368003249168396, p=0.0\n",
      "Probably not Gaussian\n"
     ]
    },
    {
     "name": "stderr",
     "output_type": "stream",
     "text": [
      "C:\\Users\\haikalef\\anaconda3\\lib\\site-packages\\scipy\\stats\\morestats.py:1760: UserWarning: p-value may not be accurate for N > 5000.\n",
      "  warnings.warn(\"p-value may not be accurate for N > 5000.\")\n"
     ]
    }
   ],
   "source": [
    "#Shapiro-Wilk Normallity Test\n",
    "\n",
    "from scipy.stats import shapiro\n",
    "\n",
    "df['GROSS SQUARE FEET'] = df['GROSS SQUARE FEET'].astype(float) #change dtype to float\n",
    "\n",
    "data3 = df['GROSS SQUARE FEET']\n",
    "stat, p = shapiro(data3)\n",
    "print(f\"stat={stat}, p={p}\")\n",
    "if p > 0.05:\n",
    "    print('Probably Gaussian')\n",
    "else:\n",
    "    print('Probably not Gaussian')"
   ]
  },
  {
   "cell_type": "markdown",
   "id": "b4a4ce5a",
   "metadata": {},
   "source": [
    "Berdasarkan Shapiro-Wilk normallity test, p-value nya tidak lebih dari 0.05, yaitu 0. Maka kolom Gross Square Feet probably not Gaussian, sehingga dapat disimpulkan tidak terdistribusi secara normal"
   ]
  },
  {
   "cell_type": "markdown",
   "id": "003ade84",
   "metadata": {},
   "source": [
    "PERTANYAAN 3\n",
    "\n",
    "Penjualan commercial units = residential units? Olah dua kolom tersebut, lalu kita dapat melihat insight nya"
   ]
  },
  {
   "cell_type": "code",
   "execution_count": 117,
   "id": "d0cf49a8",
   "metadata": {},
   "outputs": [
    {
     "name": "stdout",
     "output_type": "stream",
     "text": [
      "<class 'pandas.core.frame.DataFrame'>\n",
      "RangeIndex: 84548 entries, 0 to 84547\n",
      "Data columns (total 2 columns):\n",
      " #   Column             Non-Null Count  Dtype\n",
      "---  ------             --------------  -----\n",
      " 0   COMMERCIAL UNITS   84548 non-null  int64\n",
      " 1   RESIDENTIAL UNITS  84548 non-null  int64\n",
      "dtypes: int64(2)\n",
      "memory usage: 1.3 MB\n"
     ]
    }
   ],
   "source": [
    "df[['COMMERCIAL UNITS', 'RESIDENTIAL UNITS']].info()"
   ]
  },
  {
   "cell_type": "code",
   "execution_count": 118,
   "id": "c80d2057",
   "metadata": {},
   "outputs": [
    {
     "ename": "AttributeError",
     "evalue": "'numpy.int64' object has no attribute 'isdigit'",
     "output_type": "error",
     "traceback": [
      "\u001b[1;31m---------------------------------------------------------------------------\u001b[0m",
      "\u001b[1;31mAttributeError\u001b[0m                            Traceback (most recent call last)",
      "Input \u001b[1;32mIn [118]\u001b[0m, in \u001b[0;36m<cell line: 5>\u001b[1;34m()\u001b[0m\n\u001b[0;32m      5\u001b[0m \u001b[38;5;28;01mfor\u001b[39;00m i \u001b[38;5;129;01min\u001b[39;00m \u001b[38;5;28mrange\u001b[39m(\u001b[38;5;241m0\u001b[39m, \u001b[38;5;28mlen\u001b[39m(df[\u001b[38;5;124m'\u001b[39m\u001b[38;5;124mCOMMERCIAL UNITS\u001b[39m\u001b[38;5;124m'\u001b[39m])):\n\u001b[0;32m      6\u001b[0m     temp_numbers2 \u001b[38;5;241m=\u001b[39m df[\u001b[38;5;124m'\u001b[39m\u001b[38;5;124mCOMMERCIAL UNITS\u001b[39m\u001b[38;5;124m'\u001b[39m][i]\n\u001b[1;32m----> 7\u001b[0m     \u001b[38;5;28;01mif\u001b[39;00m \u001b[43mtemp_numbers2\u001b[49m\u001b[38;5;241;43m.\u001b[39;49m\u001b[43misdigit\u001b[49m() \u001b[38;5;241m==\u001b[39m \u001b[38;5;28;01mTrue\u001b[39;00m:\n\u001b[0;32m      8\u001b[0m         \u001b[38;5;28;01mcontinue\u001b[39;00m\n\u001b[0;32m      9\u001b[0m     \u001b[38;5;28;01melse\u001b[39;00m:\n",
      "\u001b[1;31mAttributeError\u001b[0m: 'numpy.int64' object has no attribute 'isdigit'"
     ]
    }
   ],
   "source": [
    "#cek apakah ada missing value seperti \" - \" pada 2 kolom tersebut\n",
    "#kolom commercial\n",
    "not_number2 = []\n",
    "\n",
    "for i in range(0, len(df['COMMERCIAL UNITS'])):\n",
    "    temp_numbers2 = df['COMMERCIAL UNITS'][i]\n",
    "    if temp_numbers2.isdigit() == True:\n",
    "        continue\n",
    "    else:\n",
    "        not_number2.append(temp_numbers2)   "
   ]
  },
  {
   "cell_type": "markdown",
   "id": "f0c9787b",
   "metadata": {},
   "source": [
    "data pada kolom commercial merupakan nilai integer, maka dapat dipastikan tidak ada missing value"
   ]
  },
  {
   "cell_type": "code",
   "execution_count": 119,
   "id": "223f862e",
   "metadata": {},
   "outputs": [
    {
     "ename": "AttributeError",
     "evalue": "'numpy.int64' object has no attribute 'isdigit'",
     "output_type": "error",
     "traceback": [
      "\u001b[1;31m---------------------------------------------------------------------------\u001b[0m",
      "\u001b[1;31mAttributeError\u001b[0m                            Traceback (most recent call last)",
      "Input \u001b[1;32mIn [119]\u001b[0m, in \u001b[0;36m<cell line: 6>\u001b[1;34m()\u001b[0m\n\u001b[0;32m      6\u001b[0m \u001b[38;5;28;01mfor\u001b[39;00m i \u001b[38;5;129;01min\u001b[39;00m \u001b[38;5;28mrange\u001b[39m(\u001b[38;5;241m0\u001b[39m, \u001b[38;5;28mlen\u001b[39m(df[\u001b[38;5;124m'\u001b[39m\u001b[38;5;124mRESIDENTIAL UNITS\u001b[39m\u001b[38;5;124m'\u001b[39m])):\n\u001b[0;32m      7\u001b[0m     temp_numbers3 \u001b[38;5;241m=\u001b[39m df[\u001b[38;5;124m'\u001b[39m\u001b[38;5;124mRESIDENTIAL UNITS\u001b[39m\u001b[38;5;124m'\u001b[39m][i]\n\u001b[1;32m----> 8\u001b[0m     \u001b[38;5;28;01mif\u001b[39;00m \u001b[43mtemp_numbers3\u001b[49m\u001b[38;5;241;43m.\u001b[39;49m\u001b[43misdigit\u001b[49m() \u001b[38;5;241m==\u001b[39m \u001b[38;5;28;01mTrue\u001b[39;00m:\n\u001b[0;32m      9\u001b[0m         \u001b[38;5;28;01mcontinue\u001b[39;00m\n\u001b[0;32m     10\u001b[0m     \u001b[38;5;28;01melse\u001b[39;00m:\n",
      "\u001b[1;31mAttributeError\u001b[0m: 'numpy.int64' object has no attribute 'isdigit'"
     ]
    }
   ],
   "source": [
    "#kemudian cek pada kolom residential\n",
    "\n",
    "not_number3 = []\n",
    "\n",
    "for i in range(0, len(df['RESIDENTIAL UNITS'])):\n",
    "    temp_numbers3 = df['RESIDENTIAL UNITS'][i]\n",
    "    if temp_numbers3.isdigit() == True:\n",
    "        continue\n",
    "    else:\n",
    "        not_number3.append(temp_numbers3)   "
   ]
  },
  {
   "cell_type": "markdown",
   "id": "b7e18872",
   "metadata": {},
   "source": [
    "sama seperti pada kolom commercial, kolom residential juga bernilai integer dan dipastikan tidak ada missing value"
   ]
  },
  {
   "cell_type": "code",
   "execution_count": 123,
   "id": "94442654",
   "metadata": {},
   "outputs": [
    {
     "name": "stdout",
     "output_type": "stream",
     "text": [
      "stat=-28.247478774335146, p=3.915820421026095e-175\n",
      "Reject h0\n"
     ]
    }
   ],
   "source": [
    "#h0 = rata\" commercial units = rata\" residential units\n",
    "#h1 = rata\" commercial units != rata\" residential units\n",
    "#using student's t-test\n",
    "\n",
    "from scipy.stats import ttest_ind\n",
    "\n",
    "data4 = df['COMMERCIAL UNITS']\n",
    "data5 = df['RESIDENTIAL UNITS']\n",
    "stat, p = ttest_ind(data4, data5)\n",
    "print(f\"stat={stat}, p={p}\")\n",
    "if p > 0.05:\n",
    "    print('Fail to reject h0')\n",
    "else:\n",
    "    print('Reject h0')"
   ]
  },
  {
   "cell_type": "markdown",
   "id": "bc7f6b97",
   "metadata": {},
   "source": [
    "Berarti, dari hasil diatas dapat diketahui bahwa p-value nya sangat kecil, maka kondisi ini menolak/reject hipotesis null (h0). Maka dari itu rata - rata commercial units tidak sama dengan rata-rata residential units"
   ]
  },
  {
   "cell_type": "markdown",
   "id": "372fc093",
   "metadata": {},
   "source": [
    "Pada assignment ini, kita harus mencari nilai mean, median, modus, range, variance, standard deviation dari kolom/data spesifik"
   ]
  },
  {
   "cell_type": "code",
   "execution_count": 122,
   "id": "0d98baa6",
   "metadata": {},
   "outputs": [
    {
     "name": "stdout",
     "output_type": "stream",
     "text": [
      "Mean Sale Price:  1147900.4933174055\n",
      "Variance Sale Price:  107756447924177.75\n",
      "SD Sale Price:  10380580.326945972\n",
      "\n",
      "Median LAND SQUARE FEET:  2325.0\n",
      "Modus Gross Square Feet:  0    1680.0\n",
      "Name: GROSS SQUARE FEET, dtype: float64\n",
      "\n",
      "Range Total Units:  2261\n"
     ]
    }
   ],
   "source": [
    "#mean dari kolom sale price\n",
    "print('Mean Sale Price: ', df['SALE PRICE'].mean())\n",
    "\n",
    "#variance dari kolom sale price\n",
    "print('Variance Sale Price: ', df['SALE PRICE'].var(ddof=1))\n",
    "\n",
    "#standard deviation dari kolom sale price\n",
    "print('SD Sale Price: ', df['SALE PRICE'].std(ddof=1))\n",
    "print()\n",
    "\n",
    "#median dari kolom land square feet\n",
    "print('Median LAND SQUARE FEET: ', df['LAND SQUARE FEET'].median())\n",
    "\n",
    "#modus dari kolom gross square feet\n",
    "print('Modus Gross Square Feet: ', df['GROSS SQUARE FEET'].mode())\n",
    "print()\n",
    "\n",
    "#range dari kolom total units\n",
    "print('Range Total Units: ', np.ptp(df['TOTAL UNITS']))"
   ]
  }
 ],
 "metadata": {
  "kernelspec": {
   "display_name": "Python 3 (ipykernel)",
   "language": "python",
   "name": "python3"
  },
  "language_info": {
   "codemirror_mode": {
    "name": "ipython",
    "version": 3
   },
   "file_extension": ".py",
   "mimetype": "text/x-python",
   "name": "python",
   "nbconvert_exporter": "python",
   "pygments_lexer": "ipython3",
   "version": "3.9.12"
  }
 },
 "nbformat": 4,
 "nbformat_minor": 5
}
